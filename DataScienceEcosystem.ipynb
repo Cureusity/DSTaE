{
 "cells": [
  {
   "cell_type": "markdown",
   "id": "e44af61f-33ce-482e-832e-d5601bcb53f4",
   "metadata": {},
   "source": [
    "# Data Science Tools and Ecosystem\n",
    "## Author: \n",
    "A. Patel"
   ]
  },
  {
   "cell_type": "markdown",
   "id": "94bfaa45-7858-4596-a320-f82bbffe6c8c",
   "metadata": {},
   "source": [
    "In this notebook, Data Science Tools and Ecosystem are summarized."
   ]
  },
  {
   "cell_type": "markdown",
   "id": "efcd997b-be10-4a80-a3f0-fa0a6e322917",
   "metadata": {},
   "source": [
    "**Objectives**\n",
    "- list popular languages used in Data Science\n",
    "- list commonly used libraries in Data Science\n",
    "- list development environment open source tools used in Data Science\n",
    "- provide an example(s) of evaluating arithmetic expressions in Python\n",
    "- demonstrate the use of \"#\" in creating headers in Jupyter notebooks\n",
    "- demonstrate the use of bullets in Jupyter noptebooks\n",
    "- demonstrate the use of columns within Jupyter notebooks"
   ]
  },
  {
   "cell_type": "markdown",
   "id": "297e5855-411c-4584-b570-62fca69d28dc",
   "metadata": {},
   "source": [
    "Some of the popular languages that Data Scientists use are:\n",
    "1. Python\n",
    "2. SQL\n",
    "3. R\n",
    "4. C++\n",
    "5. Java/JavaScript\n",
    "6. Scala"
   ]
  },
  {
   "cell_type": "markdown",
   "id": "85036542-ae2d-49e4-bc58-deef1d4788aa",
   "metadata": {},
   "source": [
    "Some of the commonly used libraries used by Data Scientists include:\n",
    "1. Pandas\n",
    "2. NumPy\n",
    "3. Matplotlib\n",
    "4. Scikit-learn\n",
    "5. TensorFlow"
   ]
  },
  {
   "cell_type": "markdown",
   "id": "10745cd7-4728-430b-ac9c-87648fccb49c",
   "metadata": {},
   "source": [
    "|Data Science Tools|\n",
    "|------|\n",
    "|Jupyter Notebook|\n",
    "|RStudio|\n",
    "|Spyder|"
   ]
  },
  {
   "cell_type": "markdown",
   "id": "f8bd8de0-8f6b-48d1-a12d-ba0790d6efcf",
   "metadata": {},
   "source": [
    "### Below are a few examples of evaluating arithmetic expressions in Python"
   ]
  },
  {
   "cell_type": "code",
   "execution_count": null,
   "id": "62f2b60e-01bf-4fd5-9d17-788a0a3fc4de",
   "metadata": {},
   "outputs": [],
   "source": [
    "#This is a simple arithmetic expression to multiply then add integers"
   ]
  },
  {
   "cell_type": "code",
   "execution_count": 2,
   "id": "d379789d-7bf8-4742-8176-419d5f63a58a",
   "metadata": {},
   "outputs": [
    {
     "data": {
      "text/plain": [
       "17"
      ]
     },
     "execution_count": 2,
     "metadata": {},
     "output_type": "execute_result"
    }
   ],
   "source": [
    "(3*4)+5"
   ]
  },
  {
   "cell_type": "code",
   "execution_count": null,
   "id": "df69ba40-b7ad-4fa9-8d96-7c8534b6a4a9",
   "metadata": {},
   "outputs": [],
   "source": [
    "#This will convert 200 minutes to hours by dividing by 60"
   ]
  },
  {
   "cell_type": "code",
   "execution_count": 3,
   "id": "e7512414-c30a-4ca6-8fee-86f5a0fdc318",
   "metadata": {},
   "outputs": [
    {
     "data": {
      "text/plain": [
       "3.3333333333333335"
      ]
     },
     "execution_count": 3,
     "metadata": {},
     "output_type": "execute_result"
    }
   ],
   "source": [
    "200/60"
   ]
  },
  {
   "cell_type": "code",
   "execution_count": null,
   "id": "5b1f1375-7d61-4bf4-ab7f-9c6c2a3bf80d",
   "metadata": {},
   "outputs": [],
   "source": []
  }
 ],
 "metadata": {
  "kernelspec": {
   "display_name": "Python 3 (ipykernel)",
   "language": "python",
   "name": "python3"
  },
  "language_info": {
   "codemirror_mode": {
    "name": "ipython",
    "version": 3
   },
   "file_extension": ".py",
   "mimetype": "text/x-python",
   "name": "python",
   "nbconvert_exporter": "python",
   "pygments_lexer": "ipython3",
   "version": "3.12.7"
  }
 },
 "nbformat": 4,
 "nbformat_minor": 5
}
